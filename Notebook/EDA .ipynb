{
 "cells": [
  {
   "cell_type": "code",
   "execution_count": 39,
   "metadata": {},
   "outputs": [],
   "source": [
    "import pandas as pd\n",
    "import seaborn as sns\n",
    "import numpy as np\n",
    "import matplotlib.pyplot as plt\n",
    "from pyproj import Geod\n",
    "%matplotlib inline"
   ]
  },
  {
   "cell_type": "code",
   "execution_count": 40,
   "metadata": {},
   "outputs": [],
   "source": [
    "##Data ingestion step\n",
    "df=pd.read_csv('finalTrain.csv')"
   ]
  },
  {
   "cell_type": "code",
   "execution_count": 41,
   "metadata": {},
   "outputs": [
    {
     "data": {
      "text/html": [
       "<div>\n",
       "<style scoped>\n",
       "    .dataframe tbody tr th:only-of-type {\n",
       "        vertical-align: middle;\n",
       "    }\n",
       "\n",
       "    .dataframe tbody tr th {\n",
       "        vertical-align: top;\n",
       "    }\n",
       "\n",
       "    .dataframe thead th {\n",
       "        text-align: right;\n",
       "    }\n",
       "</style>\n",
       "<table border=\"1\" class=\"dataframe\">\n",
       "  <thead>\n",
       "    <tr style=\"text-align: right;\">\n",
       "      <th></th>\n",
       "      <th>ID</th>\n",
       "      <th>Delivery_person_ID</th>\n",
       "      <th>Delivery_person_Age</th>\n",
       "      <th>Delivery_person_Ratings</th>\n",
       "      <th>Restaurant_latitude</th>\n",
       "      <th>Restaurant_longitude</th>\n",
       "      <th>Delivery_location_latitude</th>\n",
       "      <th>Delivery_location_longitude</th>\n",
       "      <th>Order_Date</th>\n",
       "      <th>Time_Orderd</th>\n",
       "      <th>Time_Order_picked</th>\n",
       "      <th>Weather_conditions</th>\n",
       "      <th>Road_traffic_density</th>\n",
       "      <th>Vehicle_condition</th>\n",
       "      <th>Type_of_order</th>\n",
       "      <th>Type_of_vehicle</th>\n",
       "      <th>multiple_deliveries</th>\n",
       "      <th>Festival</th>\n",
       "      <th>City</th>\n",
       "      <th>Time_taken (min)</th>\n",
       "    </tr>\n",
       "  </thead>\n",
       "  <tbody>\n",
       "    <tr>\n",
       "      <th>0</th>\n",
       "      <td>0xcdcd</td>\n",
       "      <td>DEHRES17DEL01</td>\n",
       "      <td>36.0</td>\n",
       "      <td>4.2</td>\n",
       "      <td>30.327968</td>\n",
       "      <td>78.046106</td>\n",
       "      <td>30.397968</td>\n",
       "      <td>78.116106</td>\n",
       "      <td>12-02-2022</td>\n",
       "      <td>21:55</td>\n",
       "      <td>22:10</td>\n",
       "      <td>Fog</td>\n",
       "      <td>Jam</td>\n",
       "      <td>2</td>\n",
       "      <td>Snack</td>\n",
       "      <td>motorcycle</td>\n",
       "      <td>3.0</td>\n",
       "      <td>No</td>\n",
       "      <td>Metropolitian</td>\n",
       "      <td>46</td>\n",
       "    </tr>\n",
       "    <tr>\n",
       "      <th>1</th>\n",
       "      <td>0xd987</td>\n",
       "      <td>KOCRES16DEL01</td>\n",
       "      <td>21.0</td>\n",
       "      <td>4.7</td>\n",
       "      <td>10.003064</td>\n",
       "      <td>76.307589</td>\n",
       "      <td>10.043064</td>\n",
       "      <td>76.347589</td>\n",
       "      <td>13-02-2022</td>\n",
       "      <td>14:55</td>\n",
       "      <td>15:05</td>\n",
       "      <td>Stormy</td>\n",
       "      <td>High</td>\n",
       "      <td>1</td>\n",
       "      <td>Meal</td>\n",
       "      <td>motorcycle</td>\n",
       "      <td>1.0</td>\n",
       "      <td>No</td>\n",
       "      <td>Metropolitian</td>\n",
       "      <td>23</td>\n",
       "    </tr>\n",
       "    <tr>\n",
       "      <th>2</th>\n",
       "      <td>0x2784</td>\n",
       "      <td>PUNERES13DEL03</td>\n",
       "      <td>23.0</td>\n",
       "      <td>4.7</td>\n",
       "      <td>18.562450</td>\n",
       "      <td>73.916619</td>\n",
       "      <td>18.652450</td>\n",
       "      <td>74.006619</td>\n",
       "      <td>04-03-2022</td>\n",
       "      <td>17:30</td>\n",
       "      <td>17:40</td>\n",
       "      <td>Sandstorms</td>\n",
       "      <td>Medium</td>\n",
       "      <td>1</td>\n",
       "      <td>Drinks</td>\n",
       "      <td>scooter</td>\n",
       "      <td>1.0</td>\n",
       "      <td>No</td>\n",
       "      <td>Metropolitian</td>\n",
       "      <td>21</td>\n",
       "    </tr>\n",
       "    <tr>\n",
       "      <th>3</th>\n",
       "      <td>0xc8b6</td>\n",
       "      <td>LUDHRES15DEL02</td>\n",
       "      <td>34.0</td>\n",
       "      <td>4.3</td>\n",
       "      <td>30.899584</td>\n",
       "      <td>75.809346</td>\n",
       "      <td>30.919584</td>\n",
       "      <td>75.829346</td>\n",
       "      <td>13-02-2022</td>\n",
       "      <td>09:20</td>\n",
       "      <td>09:30</td>\n",
       "      <td>Sandstorms</td>\n",
       "      <td>Low</td>\n",
       "      <td>0</td>\n",
       "      <td>Buffet</td>\n",
       "      <td>motorcycle</td>\n",
       "      <td>0.0</td>\n",
       "      <td>No</td>\n",
       "      <td>Metropolitian</td>\n",
       "      <td>20</td>\n",
       "    </tr>\n",
       "    <tr>\n",
       "      <th>4</th>\n",
       "      <td>0xdb64</td>\n",
       "      <td>KNPRES14DEL02</td>\n",
       "      <td>24.0</td>\n",
       "      <td>4.7</td>\n",
       "      <td>26.463504</td>\n",
       "      <td>80.372929</td>\n",
       "      <td>26.593504</td>\n",
       "      <td>80.502929</td>\n",
       "      <td>14-02-2022</td>\n",
       "      <td>19:50</td>\n",
       "      <td>20:05</td>\n",
       "      <td>Fog</td>\n",
       "      <td>Jam</td>\n",
       "      <td>1</td>\n",
       "      <td>Snack</td>\n",
       "      <td>scooter</td>\n",
       "      <td>1.0</td>\n",
       "      <td>No</td>\n",
       "      <td>Metropolitian</td>\n",
       "      <td>41</td>\n",
       "    </tr>\n",
       "  </tbody>\n",
       "</table>\n",
       "</div>"
      ],
      "text/plain": [
       "       ID Delivery_person_ID  Delivery_person_Age  Delivery_person_Ratings  \\\n",
       "0  0xcdcd      DEHRES17DEL01                 36.0                      4.2   \n",
       "1  0xd987      KOCRES16DEL01                 21.0                      4.7   \n",
       "2  0x2784     PUNERES13DEL03                 23.0                      4.7   \n",
       "3  0xc8b6     LUDHRES15DEL02                 34.0                      4.3   \n",
       "4  0xdb64      KNPRES14DEL02                 24.0                      4.7   \n",
       "\n",
       "   Restaurant_latitude  Restaurant_longitude  Delivery_location_latitude  \\\n",
       "0            30.327968             78.046106                   30.397968   \n",
       "1            10.003064             76.307589                   10.043064   \n",
       "2            18.562450             73.916619                   18.652450   \n",
       "3            30.899584             75.809346                   30.919584   \n",
       "4            26.463504             80.372929                   26.593504   \n",
       "\n",
       "   Delivery_location_longitude  Order_Date Time_Orderd Time_Order_picked  \\\n",
       "0                    78.116106  12-02-2022       21:55             22:10   \n",
       "1                    76.347589  13-02-2022       14:55             15:05   \n",
       "2                    74.006619  04-03-2022       17:30             17:40   \n",
       "3                    75.829346  13-02-2022       09:20             09:30   \n",
       "4                    80.502929  14-02-2022       19:50             20:05   \n",
       "\n",
       "  Weather_conditions Road_traffic_density  Vehicle_condition Type_of_order  \\\n",
       "0                Fog                  Jam                  2         Snack   \n",
       "1             Stormy                 High                  1          Meal   \n",
       "2         Sandstorms               Medium                  1        Drinks   \n",
       "3         Sandstorms                  Low                  0        Buffet   \n",
       "4                Fog                  Jam                  1         Snack   \n",
       "\n",
       "  Type_of_vehicle  multiple_deliveries Festival           City  \\\n",
       "0      motorcycle                  3.0       No  Metropolitian   \n",
       "1      motorcycle                  1.0       No  Metropolitian   \n",
       "2         scooter                  1.0       No  Metropolitian   \n",
       "3      motorcycle                  0.0       No  Metropolitian   \n",
       "4         scooter                  1.0       No  Metropolitian   \n",
       "\n",
       "   Time_taken (min)  \n",
       "0                46  \n",
       "1                23  \n",
       "2                21  \n",
       "3                20  \n",
       "4                41  "
      ]
     },
     "execution_count": 41,
     "metadata": {},
     "output_type": "execute_result"
    }
   ],
   "source": [
    "df.head()"
   ]
  },
  {
   "cell_type": "code",
   "execution_count": 42,
   "metadata": {},
   "outputs": [
    {
     "name": "stdout",
     "output_type": "stream",
     "text": [
      "<class 'pandas.core.frame.DataFrame'>\n",
      "RangeIndex: 45584 entries, 0 to 45583\n",
      "Data columns (total 20 columns):\n",
      " #   Column                       Non-Null Count  Dtype  \n",
      "---  ------                       --------------  -----  \n",
      " 0   ID                           45584 non-null  object \n",
      " 1   Delivery_person_ID           45584 non-null  object \n",
      " 2   Delivery_person_Age          43730 non-null  float64\n",
      " 3   Delivery_person_Ratings      43676 non-null  float64\n",
      " 4   Restaurant_latitude          45584 non-null  float64\n",
      " 5   Restaurant_longitude         45584 non-null  float64\n",
      " 6   Delivery_location_latitude   45584 non-null  float64\n",
      " 7   Delivery_location_longitude  45584 non-null  float64\n",
      " 8   Order_Date                   45584 non-null  object \n",
      " 9   Time_Orderd                  43853 non-null  object \n",
      " 10  Time_Order_picked            45584 non-null  object \n",
      " 11  Weather_conditions           44968 non-null  object \n",
      " 12  Road_traffic_density         44983 non-null  object \n",
      " 13  Vehicle_condition            45584 non-null  int64  \n",
      " 14  Type_of_order                45584 non-null  object \n",
      " 15  Type_of_vehicle              45584 non-null  object \n",
      " 16  multiple_deliveries          44591 non-null  float64\n",
      " 17  Festival                     45356 non-null  object \n",
      " 18  City                         44384 non-null  object \n",
      " 19  Time_taken (min)             45584 non-null  int64  \n",
      "dtypes: float64(7), int64(2), object(11)\n",
      "memory usage: 7.0+ MB\n"
     ]
    }
   ],
   "source": [
    "df.info()"
   ]
  },
  {
   "cell_type": "code",
   "execution_count": 43,
   "metadata": {},
   "outputs": [
    {
     "data": {
      "text/plain": [
       "ID                                0\n",
       "Delivery_person_ID                0\n",
       "Delivery_person_Age            1854\n",
       "Delivery_person_Ratings        1908\n",
       "Restaurant_latitude               0\n",
       "Restaurant_longitude              0\n",
       "Delivery_location_latitude        0\n",
       "Delivery_location_longitude       0\n",
       "Order_Date                        0\n",
       "Time_Orderd                    1731\n",
       "Time_Order_picked                 0\n",
       "Weather_conditions              616\n",
       "Road_traffic_density            601\n",
       "Vehicle_condition                 0\n",
       "Type_of_order                     0\n",
       "Type_of_vehicle                   0\n",
       "multiple_deliveries             993\n",
       "Festival                        228\n",
       "City                           1200\n",
       "Time_taken (min)                  0\n",
       "dtype: int64"
      ]
     },
     "execution_count": 43,
     "metadata": {},
     "output_type": "execute_result"
    }
   ],
   "source": [
    "##handling null values\n",
    "df.isnull().sum()"
   ]
  },
  {
   "cell_type": "code",
   "execution_count": 44,
   "metadata": {},
   "outputs": [
    {
     "data": {
      "text/plain": [
       "['Delivery_person_Age',\n",
       " 'Delivery_person_Ratings',\n",
       " 'Time_Orderd',\n",
       " 'Weather_conditions',\n",
       " 'Road_traffic_density',\n",
       " 'multiple_deliveries',\n",
       " 'Festival',\n",
       " 'City']"
      ]
     },
     "execution_count": 44,
     "metadata": {},
     "output_type": "execute_result"
    }
   ],
   "source": [
    "null_col=[features for features in df.columns if df[features].isnull().sum()>0]\n",
    "null_col"
   ]
  },
  {
   "cell_type": "code",
   "execution_count": 45,
   "metadata": {},
   "outputs": [
    {
     "name": "stdout",
     "output_type": "stream",
     "text": [
      "cat columns : ['Time_Orderd', 'Weather_conditions', 'Road_traffic_density', 'Festival', 'City'] \n",
      " num columns : ['Delivery_person_Age', 'Delivery_person_Ratings', 'multiple_deliveries']\n"
     ]
    }
   ],
   "source": [
    "categorical_null_columns=[]\n",
    "numerical_null_columns=[]\n",
    "for i in null_col:\n",
    "    \n",
    "    if df[i].dtypes=='O':\n",
    "        categorical_null_columns.append(i)\n",
    "    else:\n",
    "        numerical_null_columns.append(i)\n",
    "print('cat columns :',categorical_null_columns,'\\n','num columns :',numerical_null_columns)\n"
   ]
  },
  {
   "cell_type": "code",
   "execution_count": 46,
   "metadata": {},
   "outputs": [],
   "source": [
    "##numerical columns filled with median\n",
    "df['Delivery_person_Age']=df['Delivery_person_Age'].fillna(df['Delivery_person_Age'].median())\n",
    "df['Delivery_person_Ratings']=df['Delivery_person_Ratings'].fillna(df['Delivery_person_Ratings'].median())\n",
    "df['multiple_deliveries']=df['multiple_deliveries'].fillna(df['multiple_deliveries'].median())\n",
    "##caterical columns filled with mode\n",
    "df['Time_Orderd']=df['Time_Orderd'].fillna(df['Time_Orderd'].mode()[0])\n",
    "df['Weather_conditions']=df['Weather_conditions'].fillna(df['Weather_conditions'].mode()[0])\n",
    "df['Road_traffic_density']=df['Road_traffic_density'].fillna(df['Road_traffic_density'].mode()[0])\n",
    "df['Festival']=df['Festival'].fillna(df['Festival'].mode()[0])\n",
    "df['City']=df['City'].fillna(df['City'].mode()[0])\n"
   ]
  },
  {
   "cell_type": "code",
   "execution_count": 47,
   "metadata": {},
   "outputs": [],
   "source": [
    "df[\"Delivery_person_Age\"]=df[\"Delivery_person_Age\"].astype(int)\n",
    "df[\"Delivery_person_Ratings\"]=df[\"Delivery_person_Ratings\"].astype(float)\n",
    "df[\"multiple_deliveries\"]=df[\"multiple_deliveries\"].astype(int)"
   ]
  },
  {
   "cell_type": "code",
   "execution_count": 48,
   "metadata": {},
   "outputs": [
    {
     "name": "stdout",
     "output_type": "stream",
     "text": [
      "<class 'pandas.core.frame.DataFrame'>\n",
      "RangeIndex: 45584 entries, 0 to 45583\n",
      "Data columns (total 20 columns):\n",
      " #   Column                       Non-Null Count  Dtype  \n",
      "---  ------                       --------------  -----  \n",
      " 0   ID                           45584 non-null  object \n",
      " 1   Delivery_person_ID           45584 non-null  object \n",
      " 2   Delivery_person_Age          45584 non-null  int32  \n",
      " 3   Delivery_person_Ratings      45584 non-null  float64\n",
      " 4   Restaurant_latitude          45584 non-null  float64\n",
      " 5   Restaurant_longitude         45584 non-null  float64\n",
      " 6   Delivery_location_latitude   45584 non-null  float64\n",
      " 7   Delivery_location_longitude  45584 non-null  float64\n",
      " 8   Order_Date                   45584 non-null  object \n",
      " 9   Time_Orderd                  45584 non-null  object \n",
      " 10  Time_Order_picked            45584 non-null  object \n",
      " 11  Weather_conditions           45584 non-null  object \n",
      " 12  Road_traffic_density         45584 non-null  object \n",
      " 13  Vehicle_condition            45584 non-null  int64  \n",
      " 14  Type_of_order                45584 non-null  object \n",
      " 15  Type_of_vehicle              45584 non-null  object \n",
      " 16  multiple_deliveries          45584 non-null  int32  \n",
      " 17  Festival                     45584 non-null  object \n",
      " 18  City                         45584 non-null  object \n",
      " 19  Time_taken (min)             45584 non-null  int64  \n",
      "dtypes: float64(5), int32(2), int64(2), object(11)\n",
      "memory usage: 6.6+ MB\n"
     ]
    }
   ],
   "source": [
    "df.info()"
   ]
  },
  {
   "cell_type": "code",
   "execution_count": 49,
   "metadata": {},
   "outputs": [
    {
     "data": {
      "text/plain": [
       "ID                             0\n",
       "Delivery_person_ID             0\n",
       "Delivery_person_Age            0\n",
       "Delivery_person_Ratings        0\n",
       "Restaurant_latitude            0\n",
       "Restaurant_longitude           0\n",
       "Delivery_location_latitude     0\n",
       "Delivery_location_longitude    0\n",
       "Order_Date                     0\n",
       "Time_Orderd                    0\n",
       "Time_Order_picked              0\n",
       "Weather_conditions             0\n",
       "Road_traffic_density           0\n",
       "Vehicle_condition              0\n",
       "Type_of_order                  0\n",
       "Type_of_vehicle                0\n",
       "multiple_deliveries            0\n",
       "Festival                       0\n",
       "City                           0\n",
       "Time_taken (min)               0\n",
       "dtype: int64"
      ]
     },
     "execution_count": 49,
     "metadata": {},
     "output_type": "execute_result"
    }
   ],
   "source": [
    "df.isnull().sum()"
   ]
  },
  {
   "cell_type": "code",
   "execution_count": 50,
   "metadata": {},
   "outputs": [
    {
     "data": {
      "text/plain": [
       "0"
      ]
     },
     "execution_count": 50,
     "metadata": {},
     "output_type": "execute_result"
    }
   ],
   "source": [
    "##finding duplicate records\n",
    "df.duplicated().sum()"
   ]
  },
  {
   "cell_type": "code",
   "execution_count": 51,
   "metadata": {},
   "outputs": [],
   "source": [
    "##droping id columns\n",
    "df=df.drop(labels=['ID','Delivery_person_ID'],axis=1)"
   ]
  },
  {
   "cell_type": "code",
   "execution_count": 52,
   "metadata": {},
   "outputs": [],
   "source": [
    "\n",
    "wgs84_geod= Geod(ellps='WGS84')"
   ]
  },
  {
   "cell_type": "code",
   "execution_count": 53,
   "metadata": {},
   "outputs": [],
   "source": [
    "def distance(lat1,lon1,lat2,lon2):\n",
    "    x,y,dist=wgs84_geod.inv(lon1,lat1,lon2,lat2)\n",
    "    return dist"
   ]
  },
  {
   "cell_type": "code",
   "execution_count": 54,
   "metadata": {},
   "outputs": [],
   "source": [
    "lat1=df[\"Restaurant_latitude\"].tolist()\n",
    "lon1=df[\"Restaurant_longitude\"].tolist()\n",
    "lat2=df[\"Delivery_location_latitude\"].tolist()\n",
    "lon2=df[\"Delivery_location_longitude\"].tolist()"
   ]
  },
  {
   "cell_type": "code",
   "execution_count": 55,
   "metadata": {},
   "outputs": [
    {
     "data": {
      "text/html": [
       "<div>\n",
       "<style scoped>\n",
       "    .dataframe tbody tr th:only-of-type {\n",
       "        vertical-align: middle;\n",
       "    }\n",
       "\n",
       "    .dataframe tbody tr th {\n",
       "        vertical-align: top;\n",
       "    }\n",
       "\n",
       "    .dataframe thead th {\n",
       "        text-align: right;\n",
       "    }\n",
       "</style>\n",
       "<table border=\"1\" class=\"dataframe\">\n",
       "  <thead>\n",
       "    <tr style=\"text-align: right;\">\n",
       "      <th></th>\n",
       "      <th>Delivery_person_Age</th>\n",
       "      <th>Delivery_person_Ratings</th>\n",
       "      <th>Restaurant_latitude</th>\n",
       "      <th>Restaurant_longitude</th>\n",
       "      <th>Delivery_location_latitude</th>\n",
       "      <th>Delivery_location_longitude</th>\n",
       "      <th>Order_Date</th>\n",
       "      <th>Time_Orderd</th>\n",
       "      <th>Time_Order_picked</th>\n",
       "      <th>Weather_conditions</th>\n",
       "      <th>Road_traffic_density</th>\n",
       "      <th>Vehicle_condition</th>\n",
       "      <th>Type_of_order</th>\n",
       "      <th>Type_of_vehicle</th>\n",
       "      <th>multiple_deliveries</th>\n",
       "      <th>Festival</th>\n",
       "      <th>City</th>\n",
       "      <th>Time_taken (min)</th>\n",
       "      <th>Distance (meter)</th>\n",
       "    </tr>\n",
       "  </thead>\n",
       "  <tbody>\n",
       "    <tr>\n",
       "      <th>0</th>\n",
       "      <td>36</td>\n",
       "      <td>4.2</td>\n",
       "      <td>30.327968</td>\n",
       "      <td>78.046106</td>\n",
       "      <td>30.397968</td>\n",
       "      <td>78.116106</td>\n",
       "      <td>12-02-2022</td>\n",
       "      <td>21:55</td>\n",
       "      <td>22:10</td>\n",
       "      <td>Fog</td>\n",
       "      <td>Jam</td>\n",
       "      <td>2</td>\n",
       "      <td>Snack</td>\n",
       "      <td>motorcycle</td>\n",
       "      <td>3</td>\n",
       "      <td>No</td>\n",
       "      <td>Metropolitian</td>\n",
       "      <td>46</td>\n",
       "      <td>10271.464023</td>\n",
       "    </tr>\n",
       "    <tr>\n",
       "      <th>1</th>\n",
       "      <td>21</td>\n",
       "      <td>4.7</td>\n",
       "      <td>10.003064</td>\n",
       "      <td>76.307589</td>\n",
       "      <td>10.043064</td>\n",
       "      <td>76.347589</td>\n",
       "      <td>13-02-2022</td>\n",
       "      <td>14:55</td>\n",
       "      <td>15:05</td>\n",
       "      <td>Stormy</td>\n",
       "      <td>High</td>\n",
       "      <td>1</td>\n",
       "      <td>Meal</td>\n",
       "      <td>motorcycle</td>\n",
       "      <td>1</td>\n",
       "      <td>No</td>\n",
       "      <td>Metropolitian</td>\n",
       "      <td>23</td>\n",
       "      <td>6229.376077</td>\n",
       "    </tr>\n",
       "    <tr>\n",
       "      <th>2</th>\n",
       "      <td>23</td>\n",
       "      <td>4.7</td>\n",
       "      <td>18.562450</td>\n",
       "      <td>73.916619</td>\n",
       "      <td>18.652450</td>\n",
       "      <td>74.006619</td>\n",
       "      <td>04-03-2022</td>\n",
       "      <td>17:30</td>\n",
       "      <td>17:40</td>\n",
       "      <td>Sandstorms</td>\n",
       "      <td>Medium</td>\n",
       "      <td>1</td>\n",
       "      <td>Drinks</td>\n",
       "      <td>scooter</td>\n",
       "      <td>1</td>\n",
       "      <td>No</td>\n",
       "      <td>Metropolitian</td>\n",
       "      <td>21</td>\n",
       "      <td>13764.305930</td>\n",
       "    </tr>\n",
       "    <tr>\n",
       "      <th>3</th>\n",
       "      <td>34</td>\n",
       "      <td>4.3</td>\n",
       "      <td>30.899584</td>\n",
       "      <td>75.809346</td>\n",
       "      <td>30.919584</td>\n",
       "      <td>75.829346</td>\n",
       "      <td>13-02-2022</td>\n",
       "      <td>09:20</td>\n",
       "      <td>09:30</td>\n",
       "      <td>Sandstorms</td>\n",
       "      <td>Low</td>\n",
       "      <td>0</td>\n",
       "      <td>Buffet</td>\n",
       "      <td>motorcycle</td>\n",
       "      <td>0</td>\n",
       "      <td>No</td>\n",
       "      <td>Metropolitian</td>\n",
       "      <td>20</td>\n",
       "      <td>2927.794728</td>\n",
       "    </tr>\n",
       "    <tr>\n",
       "      <th>4</th>\n",
       "      <td>24</td>\n",
       "      <td>4.7</td>\n",
       "      <td>26.463504</td>\n",
       "      <td>80.372929</td>\n",
       "      <td>26.593504</td>\n",
       "      <td>80.502929</td>\n",
       "      <td>14-02-2022</td>\n",
       "      <td>19:50</td>\n",
       "      <td>20:05</td>\n",
       "      <td>Fog</td>\n",
       "      <td>Jam</td>\n",
       "      <td>1</td>\n",
       "      <td>Snack</td>\n",
       "      <td>scooter</td>\n",
       "      <td>1</td>\n",
       "      <td>No</td>\n",
       "      <td>Metropolitian</td>\n",
       "      <td>41</td>\n",
       "      <td>19373.484089</td>\n",
       "    </tr>\n",
       "  </tbody>\n",
       "</table>\n",
       "</div>"
      ],
      "text/plain": [
       "   Delivery_person_Age  Delivery_person_Ratings  Restaurant_latitude  \\\n",
       "0                   36                      4.2            30.327968   \n",
       "1                   21                      4.7            10.003064   \n",
       "2                   23                      4.7            18.562450   \n",
       "3                   34                      4.3            30.899584   \n",
       "4                   24                      4.7            26.463504   \n",
       "\n",
       "   Restaurant_longitude  Delivery_location_latitude  \\\n",
       "0             78.046106                   30.397968   \n",
       "1             76.307589                   10.043064   \n",
       "2             73.916619                   18.652450   \n",
       "3             75.809346                   30.919584   \n",
       "4             80.372929                   26.593504   \n",
       "\n",
       "   Delivery_location_longitude  Order_Date Time_Orderd Time_Order_picked  \\\n",
       "0                    78.116106  12-02-2022       21:55             22:10   \n",
       "1                    76.347589  13-02-2022       14:55             15:05   \n",
       "2                    74.006619  04-03-2022       17:30             17:40   \n",
       "3                    75.829346  13-02-2022       09:20             09:30   \n",
       "4                    80.502929  14-02-2022       19:50             20:05   \n",
       "\n",
       "  Weather_conditions Road_traffic_density  Vehicle_condition Type_of_order  \\\n",
       "0                Fog                  Jam                  2         Snack   \n",
       "1             Stormy                 High                  1          Meal   \n",
       "2         Sandstorms               Medium                  1        Drinks   \n",
       "3         Sandstorms                  Low                  0        Buffet   \n",
       "4                Fog                  Jam                  1         Snack   \n",
       "\n",
       "  Type_of_vehicle  multiple_deliveries Festival           City  \\\n",
       "0      motorcycle                    3       No  Metropolitian   \n",
       "1      motorcycle                    1       No  Metropolitian   \n",
       "2         scooter                    1       No  Metropolitian   \n",
       "3      motorcycle                    0       No  Metropolitian   \n",
       "4         scooter                    1       No  Metropolitian   \n",
       "\n",
       "   Time_taken (min)  Distance (meter)  \n",
       "0                46      10271.464023  \n",
       "1                23       6229.376077  \n",
       "2                21      13764.305930  \n",
       "3                20       2927.794728  \n",
       "4                41      19373.484089  "
      ]
     },
     "execution_count": 55,
     "metadata": {},
     "output_type": "execute_result"
    }
   ],
   "source": [
    "df[\"Distance (meter)\"]=distance(lat1,lon1,lat2,lon2)\n",
    "df.head()"
   ]
  },
  {
   "cell_type": "code",
   "execution_count": 56,
   "metadata": {},
   "outputs": [],
   "source": [
    "##droping latitude and longitude columns , Type_of_order\n",
    "df.drop(labels=['Type_of_order','Restaurant_latitude','Restaurant_longitude','Delivery_location_latitude','Delivery_location_longitude',\"Order_Date\"],axis=1,inplace=True)"
   ]
  },
  {
   "cell_type": "code",
   "execution_count": 57,
   "metadata": {},
   "outputs": [
    {
     "data": {
      "text/html": [
       "<div>\n",
       "<style scoped>\n",
       "    .dataframe tbody tr th:only-of-type {\n",
       "        vertical-align: middle;\n",
       "    }\n",
       "\n",
       "    .dataframe tbody tr th {\n",
       "        vertical-align: top;\n",
       "    }\n",
       "\n",
       "    .dataframe thead th {\n",
       "        text-align: right;\n",
       "    }\n",
       "</style>\n",
       "<table border=\"1\" class=\"dataframe\">\n",
       "  <thead>\n",
       "    <tr style=\"text-align: right;\">\n",
       "      <th></th>\n",
       "      <th>Delivery_person_Age</th>\n",
       "      <th>Delivery_person_Ratings</th>\n",
       "      <th>Time_Orderd</th>\n",
       "      <th>Time_Order_picked</th>\n",
       "      <th>Weather_conditions</th>\n",
       "      <th>Road_traffic_density</th>\n",
       "      <th>Vehicle_condition</th>\n",
       "      <th>Type_of_vehicle</th>\n",
       "      <th>multiple_deliveries</th>\n",
       "      <th>Festival</th>\n",
       "      <th>City</th>\n",
       "      <th>Time_taken (min)</th>\n",
       "      <th>Distance (meter)</th>\n",
       "    </tr>\n",
       "  </thead>\n",
       "  <tbody>\n",
       "    <tr>\n",
       "      <th>0</th>\n",
       "      <td>36</td>\n",
       "      <td>4.2</td>\n",
       "      <td>21:55</td>\n",
       "      <td>22:10</td>\n",
       "      <td>Fog</td>\n",
       "      <td>Jam</td>\n",
       "      <td>2</td>\n",
       "      <td>motorcycle</td>\n",
       "      <td>3</td>\n",
       "      <td>No</td>\n",
       "      <td>Metropolitian</td>\n",
       "      <td>46</td>\n",
       "      <td>10271.464023</td>\n",
       "    </tr>\n",
       "    <tr>\n",
       "      <th>1</th>\n",
       "      <td>21</td>\n",
       "      <td>4.7</td>\n",
       "      <td>14:55</td>\n",
       "      <td>15:05</td>\n",
       "      <td>Stormy</td>\n",
       "      <td>High</td>\n",
       "      <td>1</td>\n",
       "      <td>motorcycle</td>\n",
       "      <td>1</td>\n",
       "      <td>No</td>\n",
       "      <td>Metropolitian</td>\n",
       "      <td>23</td>\n",
       "      <td>6229.376077</td>\n",
       "    </tr>\n",
       "    <tr>\n",
       "      <th>2</th>\n",
       "      <td>23</td>\n",
       "      <td>4.7</td>\n",
       "      <td>17:30</td>\n",
       "      <td>17:40</td>\n",
       "      <td>Sandstorms</td>\n",
       "      <td>Medium</td>\n",
       "      <td>1</td>\n",
       "      <td>scooter</td>\n",
       "      <td>1</td>\n",
       "      <td>No</td>\n",
       "      <td>Metropolitian</td>\n",
       "      <td>21</td>\n",
       "      <td>13764.305930</td>\n",
       "    </tr>\n",
       "    <tr>\n",
       "      <th>3</th>\n",
       "      <td>34</td>\n",
       "      <td>4.3</td>\n",
       "      <td>09:20</td>\n",
       "      <td>09:30</td>\n",
       "      <td>Sandstorms</td>\n",
       "      <td>Low</td>\n",
       "      <td>0</td>\n",
       "      <td>motorcycle</td>\n",
       "      <td>0</td>\n",
       "      <td>No</td>\n",
       "      <td>Metropolitian</td>\n",
       "      <td>20</td>\n",
       "      <td>2927.794728</td>\n",
       "    </tr>\n",
       "    <tr>\n",
       "      <th>4</th>\n",
       "      <td>24</td>\n",
       "      <td>4.7</td>\n",
       "      <td>19:50</td>\n",
       "      <td>20:05</td>\n",
       "      <td>Fog</td>\n",
       "      <td>Jam</td>\n",
       "      <td>1</td>\n",
       "      <td>scooter</td>\n",
       "      <td>1</td>\n",
       "      <td>No</td>\n",
       "      <td>Metropolitian</td>\n",
       "      <td>41</td>\n",
       "      <td>19373.484089</td>\n",
       "    </tr>\n",
       "  </tbody>\n",
       "</table>\n",
       "</div>"
      ],
      "text/plain": [
       "   Delivery_person_Age  Delivery_person_Ratings Time_Orderd Time_Order_picked  \\\n",
       "0                   36                      4.2       21:55             22:10   \n",
       "1                   21                      4.7       14:55             15:05   \n",
       "2                   23                      4.7       17:30             17:40   \n",
       "3                   34                      4.3       09:20             09:30   \n",
       "4                   24                      4.7       19:50             20:05   \n",
       "\n",
       "  Weather_conditions Road_traffic_density  Vehicle_condition Type_of_vehicle  \\\n",
       "0                Fog                  Jam                  2      motorcycle   \n",
       "1             Stormy                 High                  1      motorcycle   \n",
       "2         Sandstorms               Medium                  1         scooter   \n",
       "3         Sandstorms                  Low                  0      motorcycle   \n",
       "4                Fog                  Jam                  1         scooter   \n",
       "\n",
       "   multiple_deliveries Festival           City  Time_taken (min)  \\\n",
       "0                    3       No  Metropolitian                46   \n",
       "1                    1       No  Metropolitian                23   \n",
       "2                    1       No  Metropolitian                21   \n",
       "3                    0       No  Metropolitian                20   \n",
       "4                    1       No  Metropolitian                41   \n",
       "\n",
       "   Distance (meter)  \n",
       "0      10271.464023  \n",
       "1       6229.376077  \n",
       "2      13764.305930  \n",
       "3       2927.794728  \n",
       "4      19373.484089  "
      ]
     },
     "execution_count": 57,
     "metadata": {},
     "output_type": "execute_result"
    }
   ],
   "source": [
    "df.head()"
   ]
  },
  {
   "cell_type": "code",
   "execution_count": 58,
   "metadata": {},
   "outputs": [],
   "source": [
    "df[\"Order_Hour\"]=df.Time_Orderd.str.split(':').str[0]\n",
    "df[\"Order_Min\"]=df.Time_Orderd.str.split(':').str[1]\n",
    "df[\"Picked_Hour\"]=df.Time_Order_picked.str.split(':').str[0]\n",
    "df[\"Picked_Min\"]=df.Time_Order_picked.str.split(':').str[1]"
   ]
  },
  {
   "cell_type": "code",
   "execution_count": 59,
   "metadata": {},
   "outputs": [],
   "source": [
    "df.drop(labels=[\"Time_Order_picked\",\"Time_Orderd\"],axis=1,inplace=True)"
   ]
  },
  {
   "cell_type": "code",
   "execution_count": 60,
   "metadata": {},
   "outputs": [
    {
     "data": {
      "text/html": [
       "<div>\n",
       "<style scoped>\n",
       "    .dataframe tbody tr th:only-of-type {\n",
       "        vertical-align: middle;\n",
       "    }\n",
       "\n",
       "    .dataframe tbody tr th {\n",
       "        vertical-align: top;\n",
       "    }\n",
       "\n",
       "    .dataframe thead th {\n",
       "        text-align: right;\n",
       "    }\n",
       "</style>\n",
       "<table border=\"1\" class=\"dataframe\">\n",
       "  <thead>\n",
       "    <tr style=\"text-align: right;\">\n",
       "      <th></th>\n",
       "      <th>Delivery_person_Age</th>\n",
       "      <th>Delivery_person_Ratings</th>\n",
       "      <th>Weather_conditions</th>\n",
       "      <th>Road_traffic_density</th>\n",
       "      <th>Vehicle_condition</th>\n",
       "      <th>Type_of_vehicle</th>\n",
       "      <th>multiple_deliveries</th>\n",
       "      <th>Festival</th>\n",
       "      <th>City</th>\n",
       "      <th>Time_taken (min)</th>\n",
       "      <th>Distance (meter)</th>\n",
       "      <th>Order_Hour</th>\n",
       "      <th>Order_Min</th>\n",
       "      <th>Picked_Hour</th>\n",
       "      <th>Picked_Min</th>\n",
       "    </tr>\n",
       "  </thead>\n",
       "  <tbody>\n",
       "    <tr>\n",
       "      <th>0</th>\n",
       "      <td>36</td>\n",
       "      <td>4.2</td>\n",
       "      <td>Fog</td>\n",
       "      <td>Jam</td>\n",
       "      <td>2</td>\n",
       "      <td>motorcycle</td>\n",
       "      <td>3</td>\n",
       "      <td>No</td>\n",
       "      <td>Metropolitian</td>\n",
       "      <td>46</td>\n",
       "      <td>10271.464023</td>\n",
       "      <td>21</td>\n",
       "      <td>55</td>\n",
       "      <td>22</td>\n",
       "      <td>10</td>\n",
       "    </tr>\n",
       "    <tr>\n",
       "      <th>1</th>\n",
       "      <td>21</td>\n",
       "      <td>4.7</td>\n",
       "      <td>Stormy</td>\n",
       "      <td>High</td>\n",
       "      <td>1</td>\n",
       "      <td>motorcycle</td>\n",
       "      <td>1</td>\n",
       "      <td>No</td>\n",
       "      <td>Metropolitian</td>\n",
       "      <td>23</td>\n",
       "      <td>6229.376077</td>\n",
       "      <td>14</td>\n",
       "      <td>55</td>\n",
       "      <td>15</td>\n",
       "      <td>05</td>\n",
       "    </tr>\n",
       "    <tr>\n",
       "      <th>2</th>\n",
       "      <td>23</td>\n",
       "      <td>4.7</td>\n",
       "      <td>Sandstorms</td>\n",
       "      <td>Medium</td>\n",
       "      <td>1</td>\n",
       "      <td>scooter</td>\n",
       "      <td>1</td>\n",
       "      <td>No</td>\n",
       "      <td>Metropolitian</td>\n",
       "      <td>21</td>\n",
       "      <td>13764.305930</td>\n",
       "      <td>17</td>\n",
       "      <td>30</td>\n",
       "      <td>17</td>\n",
       "      <td>40</td>\n",
       "    </tr>\n",
       "    <tr>\n",
       "      <th>3</th>\n",
       "      <td>34</td>\n",
       "      <td>4.3</td>\n",
       "      <td>Sandstorms</td>\n",
       "      <td>Low</td>\n",
       "      <td>0</td>\n",
       "      <td>motorcycle</td>\n",
       "      <td>0</td>\n",
       "      <td>No</td>\n",
       "      <td>Metropolitian</td>\n",
       "      <td>20</td>\n",
       "      <td>2927.794728</td>\n",
       "      <td>09</td>\n",
       "      <td>20</td>\n",
       "      <td>09</td>\n",
       "      <td>30</td>\n",
       "    </tr>\n",
       "    <tr>\n",
       "      <th>4</th>\n",
       "      <td>24</td>\n",
       "      <td>4.7</td>\n",
       "      <td>Fog</td>\n",
       "      <td>Jam</td>\n",
       "      <td>1</td>\n",
       "      <td>scooter</td>\n",
       "      <td>1</td>\n",
       "      <td>No</td>\n",
       "      <td>Metropolitian</td>\n",
       "      <td>41</td>\n",
       "      <td>19373.484089</td>\n",
       "      <td>19</td>\n",
       "      <td>50</td>\n",
       "      <td>20</td>\n",
       "      <td>05</td>\n",
       "    </tr>\n",
       "  </tbody>\n",
       "</table>\n",
       "</div>"
      ],
      "text/plain": [
       "   Delivery_person_Age  Delivery_person_Ratings Weather_conditions  \\\n",
       "0                   36                      4.2                Fog   \n",
       "1                   21                      4.7             Stormy   \n",
       "2                   23                      4.7         Sandstorms   \n",
       "3                   34                      4.3         Sandstorms   \n",
       "4                   24                      4.7                Fog   \n",
       "\n",
       "  Road_traffic_density  Vehicle_condition Type_of_vehicle  \\\n",
       "0                  Jam                  2      motorcycle   \n",
       "1                 High                  1      motorcycle   \n",
       "2               Medium                  1         scooter   \n",
       "3                  Low                  0      motorcycle   \n",
       "4                  Jam                  1         scooter   \n",
       "\n",
       "   multiple_deliveries Festival           City  Time_taken (min)  \\\n",
       "0                    3       No  Metropolitian                46   \n",
       "1                    1       No  Metropolitian                23   \n",
       "2                    1       No  Metropolitian                21   \n",
       "3                    0       No  Metropolitian                20   \n",
       "4                    1       No  Metropolitian                41   \n",
       "\n",
       "   Distance (meter) Order_Hour Order_Min Picked_Hour Picked_Min  \n",
       "0      10271.464023         21        55          22         10  \n",
       "1       6229.376077         14        55          15         05  \n",
       "2      13764.305930         17        30          17         40  \n",
       "3       2927.794728         09        20          09         30  \n",
       "4      19373.484089         19        50          20         05  "
      ]
     },
     "execution_count": 60,
     "metadata": {},
     "output_type": "execute_result"
    }
   ],
   "source": [
    "df.head()"
   ]
  },
  {
   "cell_type": "code",
   "execution_count": 61,
   "metadata": {},
   "outputs": [
    {
     "name": "stdout",
     "output_type": "stream",
     "text": [
      "<class 'pandas.core.frame.DataFrame'>\n",
      "RangeIndex: 45584 entries, 0 to 45583\n",
      "Data columns (total 15 columns):\n",
      " #   Column                   Non-Null Count  Dtype  \n",
      "---  ------                   --------------  -----  \n",
      " 0   Delivery_person_Age      45584 non-null  int32  \n",
      " 1   Delivery_person_Ratings  45584 non-null  float64\n",
      " 2   Weather_conditions       45584 non-null  object \n",
      " 3   Road_traffic_density     45584 non-null  object \n",
      " 4   Vehicle_condition        45584 non-null  int64  \n",
      " 5   Type_of_vehicle          45584 non-null  object \n",
      " 6   multiple_deliveries      45584 non-null  int32  \n",
      " 7   Festival                 45584 non-null  object \n",
      " 8   City                     45584 non-null  object \n",
      " 9   Time_taken (min)         45584 non-null  int64  \n",
      " 10  Distance (meter)         45584 non-null  float64\n",
      " 11  Order_Hour               45584 non-null  object \n",
      " 12  Order_Min                41516 non-null  object \n",
      " 13  Picked_Hour              45584 non-null  object \n",
      " 14  Picked_Min               41457 non-null  object \n",
      "dtypes: float64(2), int32(2), int64(2), object(9)\n",
      "memory usage: 4.9+ MB\n"
     ]
    }
   ],
   "source": [
    "df.info()"
   ]
  },
  {
   "cell_type": "code",
   "execution_count": 62,
   "metadata": {},
   "outputs": [],
   "source": [
    "\n",
    "df[\"Order_Hour\"]=df[\"Order_Hour\"].astype(float)\n",
    "df[\"Order_Min\"]=df[\"Order_Min\"].astype(float)\n",
    "df[\"Picked_Hour\"]=df[\"Picked_Hour\"].astype(float)\n",
    "df[\"Picked_Min\"]=df[\"Picked_Min\"].astype(float)"
   ]
  },
  {
   "cell_type": "code",
   "execution_count": 63,
   "metadata": {},
   "outputs": [
    {
     "name": "stdout",
     "output_type": "stream",
     "text": [
      "<class 'pandas.core.frame.DataFrame'>\n",
      "RangeIndex: 45584 entries, 0 to 45583\n",
      "Data columns (total 15 columns):\n",
      " #   Column                   Non-Null Count  Dtype  \n",
      "---  ------                   --------------  -----  \n",
      " 0   Delivery_person_Age      45584 non-null  int32  \n",
      " 1   Delivery_person_Ratings  45584 non-null  float64\n",
      " 2   Weather_conditions       45584 non-null  object \n",
      " 3   Road_traffic_density     45584 non-null  object \n",
      " 4   Vehicle_condition        45584 non-null  int64  \n",
      " 5   Type_of_vehicle          45584 non-null  object \n",
      " 6   multiple_deliveries      45584 non-null  int32  \n",
      " 7   Festival                 45584 non-null  object \n",
      " 8   City                     45584 non-null  object \n",
      " 9   Time_taken (min)         45584 non-null  int64  \n",
      " 10  Distance (meter)         45584 non-null  float64\n",
      " 11  Order_Hour               45584 non-null  float64\n",
      " 12  Order_Min                41516 non-null  float64\n",
      " 13  Picked_Hour              45584 non-null  float64\n",
      " 14  Picked_Min               41457 non-null  float64\n",
      "dtypes: float64(6), int32(2), int64(2), object(5)\n",
      "memory usage: 4.9+ MB\n"
     ]
    }
   ],
   "source": [
    "df.info()"
   ]
  },
  {
   "cell_type": "code",
   "execution_count": 64,
   "metadata": {},
   "outputs": [
    {
     "name": "stdout",
     "output_type": "stream",
     "text": [
      "NUMERICAL FEATURES :  Index(['Delivery_person_Age', 'Delivery_person_Ratings', 'Vehicle_condition',\n",
      "       'multiple_deliveries', 'Time_taken (min)', 'Distance (meter)',\n",
      "       'Order_Hour', 'Order_Min', 'Picked_Hour', 'Picked_Min'],\n",
      "      dtype='object')\n",
      "CATEGORICAL FEATURES :  Index(['Weather_conditions', 'Road_traffic_density', 'Type_of_vehicle',\n",
      "       'Festival', 'City'],\n",
      "      dtype='object')\n"
     ]
    }
   ],
   "source": [
    "#Segregating numerical and categorical features\n",
    "numerical_features=df.columns[df.dtypes!='O']\n",
    "categorical_features=df.columns[df.dtypes=='O']\n",
    "print(\"NUMERICAL FEATURES : \",numerical_features)\n",
    "print(\"CATEGORICAL FEATURES : \",categorical_features)"
   ]
  },
  {
   "cell_type": "code",
   "execution_count": 65,
   "metadata": {},
   "outputs": [
    {
     "data": {
      "text/html": [
       "<div>\n",
       "<style scoped>\n",
       "    .dataframe tbody tr th:only-of-type {\n",
       "        vertical-align: middle;\n",
       "    }\n",
       "\n",
       "    .dataframe tbody tr th {\n",
       "        vertical-align: top;\n",
       "    }\n",
       "\n",
       "    .dataframe thead th {\n",
       "        text-align: right;\n",
       "    }\n",
       "</style>\n",
       "<table border=\"1\" class=\"dataframe\">\n",
       "  <thead>\n",
       "    <tr style=\"text-align: right;\">\n",
       "      <th></th>\n",
       "      <th>Weather_conditions</th>\n",
       "      <th>Road_traffic_density</th>\n",
       "      <th>Type_of_vehicle</th>\n",
       "      <th>Festival</th>\n",
       "      <th>City</th>\n",
       "    </tr>\n",
       "  </thead>\n",
       "  <tbody>\n",
       "    <tr>\n",
       "      <th>count</th>\n",
       "      <td>45584</td>\n",
       "      <td>45584</td>\n",
       "      <td>45584</td>\n",
       "      <td>45584</td>\n",
       "      <td>45584</td>\n",
       "    </tr>\n",
       "    <tr>\n",
       "      <th>unique</th>\n",
       "      <td>6</td>\n",
       "      <td>4</td>\n",
       "      <td>4</td>\n",
       "      <td>2</td>\n",
       "      <td>3</td>\n",
       "    </tr>\n",
       "    <tr>\n",
       "      <th>top</th>\n",
       "      <td>Fog</td>\n",
       "      <td>Low</td>\n",
       "      <td>motorcycle</td>\n",
       "      <td>No</td>\n",
       "      <td>Metropolitian</td>\n",
       "    </tr>\n",
       "    <tr>\n",
       "      <th>freq</th>\n",
       "      <td>8269</td>\n",
       "      <td>16077</td>\n",
       "      <td>26429</td>\n",
       "      <td>44688</td>\n",
       "      <td>35287</td>\n",
       "    </tr>\n",
       "  </tbody>\n",
       "</table>\n",
       "</div>"
      ],
      "text/plain": [
       "       Weather_conditions Road_traffic_density Type_of_vehicle Festival  \\\n",
       "count               45584                45584           45584    45584   \n",
       "unique                  6                    4               4        2   \n",
       "top                   Fog                  Low      motorcycle       No   \n",
       "freq                 8269                16077           26429    44688   \n",
       "\n",
       "                 City  \n",
       "count           45584  \n",
       "unique              3  \n",
       "top     Metropolitian  \n",
       "freq            35287  "
      ]
     },
     "execution_count": 65,
     "metadata": {},
     "output_type": "execute_result"
    }
   ],
   "source": [
    "df[categorical_features].describe()"
   ]
  },
  {
   "cell_type": "code",
   "execution_count": 66,
   "metadata": {},
   "outputs": [
    {
     "name": "stdout",
     "output_type": "stream",
     "text": [
      "value counts of : Fog           8269\n",
      "Stormy        7584\n",
      "Cloudy        7533\n",
      "Sandstorms    7494\n",
      "Windy         7422\n",
      "Sunny         7282\n",
      "Name: Weather_conditions, dtype: int64\n",
      "\n",
      "value counts of : Low       16077\n",
      "Jam       14139\n",
      "Medium    10945\n",
      "High       4423\n",
      "Name: Road_traffic_density, dtype: int64\n",
      "\n",
      "value counts of : motorcycle          26429\n",
      "scooter             15273\n",
      "electric_scooter     3814\n",
      "bicycle                68\n",
      "Name: Type_of_vehicle, dtype: int64\n",
      "\n",
      "value counts of : No     44688\n",
      "Yes      896\n",
      "Name: Festival, dtype: int64\n",
      "\n",
      "value counts of : Metropolitian    35287\n",
      "Urban            10133\n",
      "Semi-Urban         164\n",
      "Name: City, dtype: int64\n",
      "\n"
     ]
    }
   ],
   "source": [
    "for i in df[categorical_features]:\n",
    "    print(f'value counts of : {df[i].value_counts()}\\n')"
   ]
  },
  {
   "cell_type": "code",
   "execution_count": 67,
   "metadata": {},
   "outputs": [
    {
     "data": {
      "image/png": "[encoded data removed]",
      "text/plain": [
       "<Figure size 800x600 with 1 Axes>"
      ]
     },
     "metadata": {},
     "output_type": "display_data"
    },
    {
     "data": {
      "image/png": "[encoded data removed]",
      "text/plain": [
       "<Figure size 800x600 with 1 Axes>"
      ]
     },
     "metadata": {},
     "output_type": "display_data"
    },
    {
     "data": {
      "image/png": "[encoded data removed]",
      "text/plain": [
       "<Figure size 800x600 with 1 Axes>"
      ]
     },
     "metadata": {},
     "output_type": "display_data"
    },
    {
     "data": {
      "image/png": "[encoded data removed]",
      "text/plain": [
       "<Figure size 800x600 with 1 Axes>"
      ]
     },
     "metadata": {},
     "output_type": "display_data"
    },
    {
     "data": {
      "image/png": "[encoded data removed]",
      "text/plain": [
       "<Figure size 800x600 with 1 Axes>"
      ]
     },
     "metadata": {},
     "output_type": "display_data"
    }
   ],
   "source": [
    "for i in df[categorical_features]:\n",
    "    plt.figure(figsize=(8,6))\n",
    "    ax=sns.countplot(x=i,data=df)\n",
    "    plt.xlabel=(i)\n",
    "    plt.ylabel=('count')\n",
    "    plt.show()\n",
    "    "
   ]
  },
  {
   "cell_type": "code",
   "execution_count": 68,
   "metadata": {},
   "outputs": [
    {
     "data": {
      "text/plain": [
       "\"plt.figure(figsize=(12,12))\\nx=0\\nfor i in df[numerical_features]:\\n    sns.histplot(data=df,x=i,kde=True)\\n    print('\\n')\\n    plt.show()\""
      ]
     },
     "execution_count": 68,
     "metadata": {},
     "output_type": "execute_result"
    }
   ],
   "source": [
    "\"\"\"plt.figure(figsize=(12,12))\n",
    "x=0\n",
    "for i in df[numerical_features]:\n",
    "    sns.histplot(data=df,x=i,kde=True)\n",
    "    print('\\n')\n",
    "    plt.show()\"\"\""
   ]
  },
  {
   "cell_type": "code",
   "execution_count": 69,
   "metadata": {},
   "outputs": [],
   "source": [
    "#sns.pairplot(df)"
   ]
  },
  {
   "cell_type": "code",
   "execution_count": 71,
   "metadata": {},
   "outputs": [
    {
     "data": {
      "text/plain": [
       "<AxesSubplot:>"
      ]
     },
     "execution_count": 71,
     "metadata": {},
     "output_type": "execute_result"
    },
    {
     "data": {
      "image/png": "[encoded data removed]",
      "text/plain": [
       "<Figure size 1200x1200 with 2 Axes>"
      ]
     },
     "metadata": {},
     "output_type": "display_data"
    }
   ],
   "source": [
    "plt.figure(figsize=(12,12))\n",
    "sns.heatmap(df.corr(),annot=True)"
   ]
  },
  {
   "cell_type": "code",
   "execution_count": 72,
   "metadata": {},
   "outputs": [
    {
     "name": "stdout",
     "output_type": "stream",
     "text": [
      "Weather_conditions column unique values : ['Fog' 'Stormy' 'Sandstorms' 'Windy' 'Cloudy' 'Sunny']\n",
      "\n",
      "Road_traffic_density column unique values : ['Jam' 'High' 'Medium' 'Low']\n",
      "\n",
      "Type_of_vehicle column unique values : ['motorcycle' 'scooter' 'electric_scooter' 'bicycle']\n",
      "\n",
      "Festival column unique values : ['No' 'Yes']\n",
      "\n",
      "City column unique values : ['Metropolitian' 'Urban' 'Semi-Urban']\n",
      "\n"
     ]
    }
   ],
   "source": [
    "##unique values of all categorical features\n",
    "for i in df[categorical_features]:\n",
    "    print(f'{i} column unique values : {df[i].unique()}\\n')"
   ]
  },
  {
   "cell_type": "code",
   "execution_count": 73,
   "metadata": {},
   "outputs": [],
   "source": [
    "#replacing odinal categorical values\n",
    "Weather_conditions_map={'Stormy':6,'Sandstorms':5,'Windy':4,'Fog':3,'Cloudy':2,'Sunny':1}\n",
    "Road_traffic_density_map={'Jam':4,'High':3,'Medium':2,'Low':1}\n",
    "Type_of_vehicle_map={'motorcycle':4,'scooter':3,'electric_scooter':2,'bicycle':1}\n",
    "Festival_map={'No':0,'Yes':1}\n",
    "City_map={'Metropolitian':3,'Urban':2,'Semi-Urban':1}\n"
   ]
  },
  {
   "cell_type": "code",
   "execution_count": 74,
   "metadata": {},
   "outputs": [],
   "source": [
    "df['Weather_conditions']=df['Weather_conditions'].map(Weather_conditions_map)\n",
    "df['Road_traffic_density']=df['Road_traffic_density'].map(Road_traffic_density_map)\n",
    "df['Type_of_vehicle']=df['Type_of_vehicle'].map(Type_of_vehicle_map)\n",
    "df['Festival']=df['Festival'].map(Festival_map)\n",
    "df['City']=df['City'].map(City_map)\n"
   ]
  },
  {
   "cell_type": "code",
   "execution_count": 75,
   "metadata": {},
   "outputs": [
    {
     "data": {
      "text/html": [
       "<div>\n",
       "<style scoped>\n",
       "    .dataframe tbody tr th:only-of-type {\n",
       "        vertical-align: middle;\n",
       "    }\n",
       "\n",
       "    .dataframe tbody tr th {\n",
       "        vertical-align: top;\n",
       "    }\n",
       "\n",
       "    .dataframe thead th {\n",
       "        text-align: right;\n",
       "    }\n",
       "</style>\n",
       "<table border=\"1\" class=\"dataframe\">\n",
       "  <thead>\n",
       "    <tr style=\"text-align: right;\">\n",
       "      <th></th>\n",
       "      <th>Delivery_person_Age</th>\n",
       "      <th>Delivery_person_Ratings</th>\n",
       "      <th>Weather_conditions</th>\n",
       "      <th>Road_traffic_density</th>\n",
       "      <th>Vehicle_condition</th>\n",
       "      <th>Type_of_vehicle</th>\n",
       "      <th>multiple_deliveries</th>\n",
       "      <th>Festival</th>\n",
       "      <th>City</th>\n",
       "      <th>Distance (meter)</th>\n",
       "      <th>Order_Hour</th>\n",
       "      <th>Order_Min</th>\n",
       "      <th>Picked_Hour</th>\n",
       "      <th>Picked_Min</th>\n",
       "      <th>Time_Taken (min)</th>\n",
       "    </tr>\n",
       "  </thead>\n",
       "  <tbody>\n",
       "    <tr>\n",
       "      <th>0</th>\n",
       "      <td>36</td>\n",
       "      <td>4.2</td>\n",
       "      <td>3</td>\n",
       "      <td>4</td>\n",
       "      <td>2</td>\n",
       "      <td>4</td>\n",
       "      <td>3</td>\n",
       "      <td>0</td>\n",
       "      <td>3</td>\n",
       "      <td>10271.464023</td>\n",
       "      <td>21.0</td>\n",
       "      <td>55.0</td>\n",
       "      <td>22.0</td>\n",
       "      <td>10.0</td>\n",
       "      <td>46</td>\n",
       "    </tr>\n",
       "    <tr>\n",
       "      <th>1</th>\n",
       "      <td>21</td>\n",
       "      <td>4.7</td>\n",
       "      <td>6</td>\n",
       "      <td>3</td>\n",
       "      <td>1</td>\n",
       "      <td>4</td>\n",
       "      <td>1</td>\n",
       "      <td>0</td>\n",
       "      <td>3</td>\n",
       "      <td>6229.376077</td>\n",
       "      <td>14.0</td>\n",
       "      <td>55.0</td>\n",
       "      <td>15.0</td>\n",
       "      <td>5.0</td>\n",
       "      <td>23</td>\n",
       "    </tr>\n",
       "    <tr>\n",
       "      <th>2</th>\n",
       "      <td>23</td>\n",
       "      <td>4.7</td>\n",
       "      <td>5</td>\n",
       "      <td>2</td>\n",
       "      <td>1</td>\n",
       "      <td>3</td>\n",
       "      <td>1</td>\n",
       "      <td>0</td>\n",
       "      <td>3</td>\n",
       "      <td>13764.305930</td>\n",
       "      <td>17.0</td>\n",
       "      <td>30.0</td>\n",
       "      <td>17.0</td>\n",
       "      <td>40.0</td>\n",
       "      <td>21</td>\n",
       "    </tr>\n",
       "    <tr>\n",
       "      <th>3</th>\n",
       "      <td>34</td>\n",
       "      <td>4.3</td>\n",
       "      <td>5</td>\n",
       "      <td>1</td>\n",
       "      <td>0</td>\n",
       "      <td>4</td>\n",
       "      <td>0</td>\n",
       "      <td>0</td>\n",
       "      <td>3</td>\n",
       "      <td>2927.794728</td>\n",
       "      <td>9.0</td>\n",
       "      <td>20.0</td>\n",
       "      <td>9.0</td>\n",
       "      <td>30.0</td>\n",
       "      <td>20</td>\n",
       "    </tr>\n",
       "    <tr>\n",
       "      <th>4</th>\n",
       "      <td>24</td>\n",
       "      <td>4.7</td>\n",
       "      <td>3</td>\n",
       "      <td>4</td>\n",
       "      <td>1</td>\n",
       "      <td>3</td>\n",
       "      <td>1</td>\n",
       "      <td>0</td>\n",
       "      <td>3</td>\n",
       "      <td>19373.484089</td>\n",
       "      <td>19.0</td>\n",
       "      <td>50.0</td>\n",
       "      <td>20.0</td>\n",
       "      <td>5.0</td>\n",
       "      <td>41</td>\n",
       "    </tr>\n",
       "  </tbody>\n",
       "</table>\n",
       "</div>"
      ],
      "text/plain": [
       "   Delivery_person_Age  Delivery_person_Ratings  Weather_conditions  \\\n",
       "0                   36                      4.2                   3   \n",
       "1                   21                      4.7                   6   \n",
       "2                   23                      4.7                   5   \n",
       "3                   34                      4.3                   5   \n",
       "4                   24                      4.7                   3   \n",
       "\n",
       "   Road_traffic_density  Vehicle_condition  Type_of_vehicle  \\\n",
       "0                     4                  2                4   \n",
       "1                     3                  1                4   \n",
       "2                     2                  1                3   \n",
       "3                     1                  0                4   \n",
       "4                     4                  1                3   \n",
       "\n",
       "   multiple_deliveries  Festival  City  Distance (meter)  Order_Hour  \\\n",
       "0                    3         0     3      10271.464023        21.0   \n",
       "1                    1         0     3       6229.376077        14.0   \n",
       "2                    1         0     3      13764.305930        17.0   \n",
       "3                    0         0     3       2927.794728         9.0   \n",
       "4                    1         0     3      19373.484089        19.0   \n",
       "\n",
       "   Order_Min  Picked_Hour  Picked_Min  Time_Taken (min)  \n",
       "0       55.0         22.0        10.0                46  \n",
       "1       55.0         15.0         5.0                23  \n",
       "2       30.0         17.0        40.0                21  \n",
       "3       20.0          9.0        30.0                20  \n",
       "4       50.0         20.0         5.0                41  "
      ]
     },
     "execution_count": 75,
     "metadata": {},
     "output_type": "execute_result"
    }
   ],
   "source": [
    "df['Time_Taken (min)']=df['Time_taken (min)']\n",
    "df.drop('Time_taken (min)',axis=1,inplace=True)\n",
    "df.head()"
   ]
  },
  {
   "cell_type": "code",
   "execution_count": 76,
   "metadata": {},
   "outputs": [
    {
     "name": "stdout",
     "output_type": "stream",
     "text": [
      "<class 'pandas.core.frame.DataFrame'>\n",
      "RangeIndex: 45584 entries, 0 to 45583\n",
      "Data columns (total 15 columns):\n",
      " #   Column                   Non-Null Count  Dtype  \n",
      "---  ------                   --------------  -----  \n",
      " 0   Delivery_person_Age      45584 non-null  int32  \n",
      " 1   Delivery_person_Ratings  45584 non-null  float64\n",
      " 2   Weather_conditions       45584 non-null  int64  \n",
      " 3   Road_traffic_density     45584 non-null  int64  \n",
      " 4   Vehicle_condition        45584 non-null  int64  \n",
      " 5   Type_of_vehicle          45584 non-null  int64  \n",
      " 6   multiple_deliveries      45584 non-null  int32  \n",
      " 7   Festival                 45584 non-null  int64  \n",
      " 8   City                     45584 non-null  int64  \n",
      " 9   Distance (meter)         45584 non-null  float64\n",
      " 10  Order_Hour               45584 non-null  float64\n",
      " 11  Order_Min                41516 non-null  float64\n",
      " 12  Picked_Hour              45584 non-null  float64\n",
      " 13  Picked_Min               41457 non-null  float64\n",
      " 14  Time_Taken (min)         45584 non-null  int64  \n",
      "dtypes: float64(6), int32(2), int64(7)\n",
      "memory usage: 4.9 MB\n"
     ]
    }
   ],
   "source": [
    "df.info()"
   ]
  },
  {
   "cell_type": "code",
   "execution_count": null,
   "metadata": {},
   "outputs": [],
   "source": []
  },
  {
   "cell_type": "code",
   "execution_count": 80,
   "metadata": {},
   "outputs": [
    {
     "data": {
      "text/plain": [
       "array([2, 1, 0, 3], dtype=int64)"
      ]
     },
     "execution_count": 80,
     "metadata": {},
     "output_type": "execute_result"
    }
   ],
   "source": [
    "df[\"Vehicle_condition\"].unique()\n",
    "\n",
    "\n",
    "\n",
    "\n",
    "\n",
    "\n",
    "\n",
    "\n"
   ]
  },
  {
   "cell_type": "code",
   "execution_count": null,
   "metadata": {},
   "outputs": [],
   "source": []
  }
 ],
 "metadata": {
  "kernelspec": {
   "display_name": "Python 3",
   "language": "python",
   "name": "python3"
  },
  "language_info": {
   "codemirror_mode": {
    "name": "ipython",
    "version": 3
   },
   "file_extension": ".py",
   "mimetype": "text/x-python",
   "name": "python",
   "nbconvert_exporter": "python",
   "pygments_lexer": "ipython3",
   "version": "3.7.16"
  },
  "orig_nbformat": 4
 },
 "nbformat": 4,
 "nbformat_minor": 2
}
